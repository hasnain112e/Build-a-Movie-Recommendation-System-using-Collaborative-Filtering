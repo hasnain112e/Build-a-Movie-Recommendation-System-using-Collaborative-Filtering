{
  "cells": [
    {
      "cell_type": "markdown",
      "metadata": {
        "id": "1pzDKtqghJN4"
      },
      "source": [
        "# Movie Recommendation System using Collaborative Filtering\n",
        "\n",
        "This notebook implements a movie recommendation system using different collaborative filtering techniques:\n",
        "1. User-Based Collaborative Filtering\n",
        "2. Item-Based Collaborative Filtering\n",
        "3. Matrix Factorization using SVD (Singular Value Decomposition)\n",
        "\n",
        "We'll evaluate each approach using appropriate metrics like RMSE and precision@k."
      ]
    },
    {
      "cell_type": "markdown",
      "metadata": {
        "id": "yjqlVOkmhJN7"
      },
      "source": [
        "## 1. Setup and Data Loading"
      ]
    },
    {
      "cell_type": "code",
      "execution_count": 68,
      "metadata": {
        "id": "Bpzi73XBhJN8"
      },
      "outputs": [],
      "source": [
        "# Import necessary libraries\n",
        "import pandas as pd\n",
        "import numpy as np\n",
        "import matplotlib.pyplot as plt\n",
        "import seaborn as sns\n",
        "from sklearn.metrics.pairwise import cosine_similarity\n",
        "from sklearn.metrics import mean_squared_error\n",
        "from scipy.sparse.linalg import svds\n",
        "from sklearn.model_selection import train_test_split\n",
        "\n",
        "# Set random seed for reproducibility\n",
        "np.random.seed(42)"
      ]
    },
    {
      "cell_type": "code",
      "execution_count": 69,
      "metadata": {
        "colab": {
          "base_uri": "https://localhost:8080/"
        },
        "id": "P6MpkjsahJN_",
        "outputId": "cc3263cd-e9f7-44d3-d8d2-2e37b375f5ba"
      },
      "outputs": [
        {
          "output_type": "stream",
          "name": "stdout",
          "text": [
            "Ratings Dataset:\n",
            "   user_id  movie_id  rating  timestamp\n",
            "0        1        10     4.0  964982703\n",
            "1        1        20     3.5  964982224\n",
            "2        1        30     1.5  964982699\n",
            "3        1        40     5.0  964982845\n",
            "4        1        50     3.0  964982834\n",
            "\n",
            "Movies Dataset:\n",
            "   movie_id                   title              genres\n",
            "0        10       The Matrix (1999)       Action|Sci-Fi\n",
            "1        20        Inception (2010)     Action|Thriller\n",
            "2        30     The Notebook (2004)       Drama|Romance\n",
            "3        40  The Dark Knight (2008)  Action|Crime|Drama\n",
            "4        50          Titanic (1997)       Drama|Romance\n"
          ]
        }
      ],
      "source": [
        "# Load the datasets\n",
        "ratings_df = pd.read_csv('ratings.csv')\n",
        "movies_df = pd.read_csv('movies.csv')\n",
        "\n",
        "# Display the first few rows of each dataset\n",
        "print(\"Ratings Dataset:\")\n",
        "print(ratings_df.head())\n",
        "print(\"\\nMovies Dataset:\")\n",
        "print(movies_df.head())"
      ]
    },
    {
      "cell_type": "code",
      "execution_count": 70,
      "metadata": {
        "colab": {
          "base_uri": "https://localhost:8080/",
          "height": 616
        },
        "id": "uhmsrUfChJOB",
        "outputId": "1602b25b-733c-4b27-b56c-830dd11111f9"
      },
      "outputs": [
        {
          "output_type": "stream",
          "name": "stdout",
          "text": [
            "Number of users: 15\n",
            "Number of movies: 10\n",
            "Number of ratings: 75\n"
          ]
        },
        {
          "output_type": "display_data",
          "data": {
            "text/plain": [
              "<Figure size 800x600 with 1 Axes>"
            ],
            "image/png": "[encoded data removed]"
          },
          "metadata": {}
        }
      ],
      "source": [
        "# Basic data exploration\n",
        "print(f\"Number of users: {ratings_df['user_id'].nunique()}\")\n",
        "print(f\"Number of movies: {movies_df['movie_id'].nunique()}\")\n",
        "print(f\"Number of ratings: {len(ratings_df)}\")\n",
        "\n",
        "# Distribution of ratings\n",
        "plt.figure(figsize=(8, 6))\n",
        "sns.histplot(ratings_df['rating'], bins=10, kde=True)\n",
        "plt.title('Distribution of Ratings')\n",
        "plt.xlabel('Rating')\n",
        "plt.ylabel('Count')\n",
        "plt.show()"
      ]
    },
    {
      "cell_type": "markdown",
      "metadata": {
        "id": "LdASQVnvhJOC"
      },
      "source": [
        "## 2. Data Preparation"
      ]
    },
    {
      "cell_type": "code",
      "execution_count": 83,
      "metadata": {
        "colab": {
          "base_uri": "https://localhost:8080/",
          "height": 255
        },
        "collapsed": true,
        "id": "5DoSJh2lhJOC",
        "outputId": "3aa44921-0c26-4cf1-eddd-93e0acb4ee2e"
      },
      "outputs": [
        {
          "output_type": "stream",
          "name": "stdout",
          "text": [
            "User-Item Matrix Shape: (15, 10)\n"
          ]
        },
        {
          "output_type": "execute_result",
          "data": {
            "text/plain": [
              "movie_id  10   20   30   40   50   60   70   80   90   100\n",
              "user_id                                                   \n",
              "1         4.0  3.5  1.5  5.0  3.0  0.0  0.0  0.0  0.0  0.0\n",
              "2         4.5  0.0  2.0  4.0  4.5  3.5  0.0  0.0  0.0  0.0\n",
              "3         5.0  4.0  0.0  3.5  0.0  4.5  4.0  0.0  0.0  0.0\n",
              "4         0.0  4.5  3.0  0.0  3.5  5.0  3.0  0.0  0.0  0.0\n",
              "5         3.5  4.0  0.0  2.5  4.5  0.0  5.0  0.0  0.0  0.0"
            ],
            "text/html": [
              "\n",
              "  <div id=\"df-aa9a50b1-b60a-46dc-bfe0-819f8fa26964\" class=\"colab-df-container\">\n",
              "    <div>\n",
              "<style scoped>\n",
              "    .dataframe tbody tr th:only-of-type {\n",
              "        vertical-align: middle;\n",
              "    }\n",
              "\n",
              "    .dataframe tbody tr th {\n",
              "        vertical-align: top;\n",
              "    }\n",
              "\n",
              "    .dataframe thead th {\n",
              "        text-align: right;\n",
              "    }\n",
              "</style>\n",
              "<table border=\"1\" class=\"dataframe\">\n",
              "  <thead>\n",
              "    <tr style=\"text-align: right;\">\n",
              "      <th>movie_id</th>\n",
              "      <th>10</th>\n",
              "      <th>20</th>\n",
              "      <th>30</th>\n",
              "      <th>40</th>\n",
              "      <th>50</th>\n",
              "      <th>60</th>\n",
              "      <th>70</th>\n",
              "      <th>80</th>\n",
              "      <th>90</th>\n",
              "      <th>100</th>\n",
              "    </tr>\n",
              "    <tr>\n",
              "      <th>user_id</th>\n",
              "      <th></th>\n",
              "      <th></th>\n",
              "      <th></th>\n",
              "      <th></th>\n",
              "      <th></th>\n",
              "      <th></th>\n",
              "      <th></th>\n",
              "      <th></th>\n",
              "      <th></th>\n",
              "      <th></th>\n",
              "    </tr>\n",
              "  </thead>\n",
              "  <tbody>\n",
              "    <tr>\n",
              "      <th>1</th>\n",
              "      <td>4.0</td>\n",
              "      <td>3.5</td>\n",
              "      <td>1.5</td>\n",
              "      <td>5.0</td>\n",
              "      <td>3.0</td>\n",
              "      <td>0.0</td>\n",
              "      <td>0.0</td>\n",
              "      <td>0.0</td>\n",
              "      <td>0.0</td>\n",
              "      <td>0.0</td>\n",
              "    </tr>\n",
              "    <tr>\n",
              "      <th>2</th>\n",
              "      <td>4.5</td>\n",
              "      <td>0.0</td>\n",
              "      <td>2.0</td>\n",
              "      <td>4.0</td>\n",
              "      <td>4.5</td>\n",
              "      <td>3.5</td>\n",
              "      <td>0.0</td>\n",
              "      <td>0.0</td>\n",
              "      <td>0.0</td>\n",
              "      <td>0.0</td>\n",
              "    </tr>\n",
              "    <tr>\n",
              "      <th>3</th>\n",
              "      <td>5.0</td>\n",
              "      <td>4.0</td>\n",
              "      <td>0.0</td>\n",
              "      <td>3.5</td>\n",
              "      <td>0.0</td>\n",
              "      <td>4.5</td>\n",
              "      <td>4.0</td>\n",
              "      <td>0.0</td>\n",
              "      <td>0.0</td>\n",
              "      <td>0.0</td>\n",
              "    </tr>\n",
              "    <tr>\n",
              "      <th>4</th>\n",
              "      <td>0.0</td>\n",
              "      <td>4.5</td>\n",
              "      <td>3.0</td>\n",
              "      <td>0.0</td>\n",
              "      <td>3.5</td>\n",
              "      <td>5.0</td>\n",
              "      <td>3.0</td>\n",
              "      <td>0.0</td>\n",
              "      <td>0.0</td>\n",
              "      <td>0.0</td>\n",
              "    </tr>\n",
              "    <tr>\n",
              "      <th>5</th>\n",
              "      <td>3.5</td>\n",
              "      <td>4.0</td>\n",
              "      <td>0.0</td>\n",
              "      <td>2.5</td>\n",
              "      <td>4.5</td>\n",
              "      <td>0.0</td>\n",
              "      <td>5.0</td>\n",
              "      <td>0.0</td>\n",
              "      <td>0.0</td>\n",
              "      <td>0.0</td>\n",
              "    </tr>\n",
              "  </tbody>\n",
              "</table>\n",
              "</div>\n",
              "    <div class=\"colab-df-buttons\">\n",
              "\n",
              "  <div class=\"colab-df-container\">\n",
              "    <button class=\"colab-df-convert\" onclick=\"convertToInteractive('df-aa9a50b1-b60a-46dc-bfe0-819f8fa26964')\"\n",
              "            title=\"Convert this dataframe to an interactive table.\"\n",
              "            style=\"display:none;\">\n",
              "\n",
              "  <svg xmlns=\"http://www.w3.org/2000/svg\" height=\"24px\" viewBox=\"0 -960 960 960\">\n",
              "    <path d=\"M120-120v-720h720v720H120Zm60-500h600v-160H180v160Zm220 220h160v-160H400v160Zm0 220h160v-160H400v160ZM180-400h160v-160H180v160Zm440 0h160v-160H620v160ZM180-180h160v-160H180v160Zm440 0h160v-160H620v160Z\"/>\n",
              "  </svg>\n",
              "    </button>\n",
              "\n",
              "  <style>\n",
              "    .colab-df-container {\n",
              "      display:flex;\n",
              "      gap: 12px;\n",
              "    }\n",
              "\n",
              "    .colab-df-convert {\n",
              "      background-color: #E8F0FE;\n",
              "      border: none;\n",
              "      border-radius: 50%;\n",
              "      cursor: pointer;\n",
              "      display: none;\n",
              "      fill: #1967D2;\n",
              "      height: 32px;\n",
              "      padding: 0 0 0 0;\n",
              "      width: 32px;\n",
              "    }\n",
              "\n",
              "    .colab-df-convert:hover {\n",
              "      background-color: #E2EBFA;\n",
              "      box-shadow: 0px 1px 2px rgba(60, 64, 67, 0.3), 0px 1px 3px 1px rgba(60, 64, 67, 0.15);\n",
              "      fill: #174EA6;\n",
              "    }\n",
              "\n",
              "    .colab-df-buttons div {\n",
              "      margin-bottom: 4px;\n",
              "    }\n",
              "\n",
              "    [theme=dark] .colab-df-convert {\n",
              "      background-color: #3B4455;\n",
              "      fill: #D2E3FC;\n",
              "    }\n",
              "\n",
              "    [theme=dark] .colab-df-convert:hover {\n",
              "      background-color: #434B5C;\n",
              "      box-shadow: 0px 1px 3px 1px rgba(0, 0, 0, 0.15);\n",
              "      filter: drop-shadow(0px 1px 2px rgba(0, 0, 0, 0.3));\n",
              "      fill: #FFFFFF;\n",
              "    }\n",
              "  </style>\n",
              "\n",
              "    <script>\n",
              "      const buttonEl =\n",
              "        document.querySelector('#df-aa9a50b1-b60a-46dc-bfe0-819f8fa26964 button.colab-df-convert');\n",
              "      buttonEl.style.display =\n",
              "        google.colab.kernel.accessAllowed ? 'block' : 'none';\n",
              "\n",
              "      async function convertToInteractive(key) {\n",
              "        const element = document.querySelector('#df-aa9a50b1-b60a-46dc-bfe0-819f8fa26964');\n",
              "        const dataTable =\n",
              "          await google.colab.kernel.invokeFunction('convertToInteractive',\n",
              "                                                    [key], {});\n",
              "        if (!dataTable) return;\n",
              "\n",
              "        const docLinkHtml = 'Like what you see? Visit the ' +\n",
              "          '<a target=\"_blank\" href=https://colab.research.google.com/notebooks/data_table.ipynb>data table notebook</a>'\n",
              "          + ' to learn more about interactive tables.';\n",
              "        element.innerHTML = '';\n",
              "        dataTable['output_type'] = 'display_data';\n",
              "        await google.colab.output.renderOutput(dataTable, element);\n",
              "        const docLink = document.createElement('div');\n",
              "        docLink.innerHTML = docLinkHtml;\n",
              "        element.appendChild(docLink);\n",
              "      }\n",
              "    </script>\n",
              "  </div>\n",
              "\n",
              "\n",
              "    <div id=\"df-cf67db27-dcc8-47b2-ab62-b86f3662224b\">\n",
              "      <button class=\"colab-df-quickchart\" onclick=\"quickchart('df-cf67db27-dcc8-47b2-ab62-b86f3662224b')\"\n",
              "                title=\"Suggest charts\"\n",
              "                style=\"display:none;\">\n",
              "\n",
              "<svg xmlns=\"http://www.w3.org/2000/svg\" height=\"24px\"viewBox=\"0 0 24 24\"\n",
              "     width=\"24px\">\n",
              "    <g>\n",
              "        <path d=\"M19 3H5c-1.1 0-2 .9-2 2v14c0 1.1.9 2 2 2h14c1.1 0 2-.9 2-2V5c0-1.1-.9-2-2-2zM9 17H7v-7h2v7zm4 0h-2V7h2v10zm4 0h-2v-4h2v4z\"/>\n",
              "    </g>\n",
              "</svg>\n",
              "      </button>\n",
              "\n",
              "<style>\n",
              "  .colab-df-quickchart {\n",
              "      --bg-color: #E8F0FE;\n",
              "      --fill-color: #1967D2;\n",
              "      --hover-bg-color: #E2EBFA;\n",
              "      --hover-fill-color: #174EA6;\n",
              "      --disabled-fill-color: #AAA;\n",
              "      --disabled-bg-color: #DDD;\n",
              "  }\n",
              "\n",
              "  [theme=dark] .colab-df-quickchart {\n",
              "      --bg-color: #3B4455;\n",
              "      --fill-color: #D2E3FC;\n",
              "      --hover-bg-color: #434B5C;\n",
              "      --hover-fill-color: #FFFFFF;\n",
              "      --disabled-bg-color: #3B4455;\n",
              "      --disabled-fill-color: #666;\n",
              "  }\n",
              "\n",
              "  .colab-df-quickchart {\n",
              "    background-color: var(--bg-color);\n",
              "    border: none;\n",
              "    border-radius: 50%;\n",
              "    cursor: pointer;\n",
              "    display: none;\n",
              "    fill: var(--fill-color);\n",
              "    height: 32px;\n",
              "    padding: 0;\n",
              "    width: 32px;\n",
              "  }\n",
              "\n",
              "  .colab-df-quickchart:hover {\n",
              "    background-color: var(--hover-bg-color);\n",
              "    box-shadow: 0 1px 2px rgba(60, 64, 67, 0.3), 0 1px 3px 1px rgba(60, 64, 67, 0.15);\n",
              "    fill: var(--button-hover-fill-color);\n",
              "  }\n",
              "\n",
              "  .colab-df-quickchart-complete:disabled,\n",
              "  .colab-df-quickchart-complete:disabled:hover {\n",
              "    background-color: var(--disabled-bg-color);\n",
              "    fill: var(--disabled-fill-color);\n",
              "    box-shadow: none;\n",
              "  }\n",
              "\n",
              "  .colab-df-spinner {\n",
              "    border: 2px solid var(--fill-color);\n",
              "    border-color: transparent;\n",
              "    border-bottom-color: var(--fill-color);\n",
              "    animation:\n",
              "      spin 1s steps(1) infinite;\n",
              "  }\n",
              "\n",
              "  @keyframes spin {\n",
              "    0% {\n",
              "      border-color: transparent;\n",
              "      border-bottom-color: var(--fill-color);\n",
              "      border-left-color: var(--fill-color);\n",
              "    }\n",
              "    20% {\n",
              "      border-color: transparent;\n",
              "      border-left-color: var(--fill-color);\n",
              "      border-top-color: var(--fill-color);\n",
              "    }\n",
              "    30% {\n",
              "      border-color: transparent;\n",
              "      border-left-color: var(--fill-color);\n",
              "      border-top-color: var(--fill-color);\n",
              "      border-right-color: var(--fill-color);\n",
              "    }\n",
              "    40% {\n",
              "      border-color: transparent;\n",
              "      border-right-color: var(--fill-color);\n",
              "      border-top-color: var(--fill-color);\n",
              "    }\n",
              "    60% {\n",
              "      border-color: transparent;\n",
              "      border-right-color: var(--fill-color);\n",
              "    }\n",
              "    80% {\n",
              "      border-color: transparent;\n",
              "      border-right-color: var(--fill-color);\n",
              "      border-bottom-color: var(--fill-color);\n",
              "    }\n",
              "    90% {\n",
              "      border-color: transparent;\n",
              "      border-bottom-color: var(--fill-color);\n",
              "    }\n",
              "  }\n",
              "</style>\n",
              "\n",
              "      <script>\n",
              "        async function quickchart(key) {\n",
              "          const quickchartButtonEl =\n",
              "            document.querySelector('#' + key + ' button');\n",
              "          quickchartButtonEl.disabled = true;  // To prevent multiple clicks.\n",
              "          quickchartButtonEl.classList.add('colab-df-spinner');\n",
              "          try {\n",
              "            const charts = await google.colab.kernel.invokeFunction(\n",
              "                'suggestCharts', [key], {});\n",
              "          } catch (error) {\n",
              "            console.error('Error during call to suggestCharts:', error);\n",
              "          }\n",
              "          quickchartButtonEl.classList.remove('colab-df-spinner');\n",
              "          quickchartButtonEl.classList.add('colab-df-quickchart-complete');\n",
              "        }\n",
              "        (() => {\n",
              "          let quickchartButtonEl =\n",
              "            document.querySelector('#df-cf67db27-dcc8-47b2-ab62-b86f3662224b button');\n",
              "          quickchartButtonEl.style.display =\n",
              "            google.colab.kernel.accessAllowed ? 'block' : 'none';\n",
              "        })();\n",
              "      </script>\n",
              "    </div>\n",
              "\n",
              "    </div>\n",
              "  </div>\n"
            ],
            "application/vnd.google.colaboratory.intrinsic+json": {
              "type": "dataframe",
              "variable_name": "user_item_matrix",
              "summary": "{\n  \"name\": \"user_item_matrix\",\n  \"rows\": 15,\n  \"fields\": [\n    {\n      \"column\": \"user_id\",\n      \"properties\": {\n        \"dtype\": \"number\",\n        \"std\": 4,\n        \"min\": 1,\n        \"max\": 15,\n        \"num_unique_values\": 15,\n        \"samples\": [\n          10,\n          12,\n          1\n        ],\n        \"semantic_type\": \"\",\n        \"description\": \"\"\n      }\n    },\n    {\n      \"column\": 10,\n      \"properties\": {\n        \"dtype\": \"number\",\n        \"std\": 2.069046249109087,\n        \"min\": 0.0,\n        \"max\": 5.0,\n        \"num_unique_values\": 6,\n        \"samples\": [\n          4.0,\n          4.5,\n          3.0\n        ],\n        \"semantic_type\": \"\",\n        \"description\": \"\"\n      }\n    },\n    {\n      \"column\": 20,\n      \"properties\": {\n        \"dtype\": \"number\",\n        \"std\": 2.1453160495323185,\n        \"min\": 0.0,\n        \"max\": 5.0,\n        \"num_unique_values\": 6,\n        \"samples\": [\n          3.5,\n          0.0,\n          2.5\n        ],\n        \"semantic_type\": \"\",\n        \"description\": \"\"\n      }\n    },\n    {\n      \"column\": 30,\n      \"properties\": {\n        \"dtype\": \"number\",\n        \"std\": 1.7265434778633235,\n        \"min\": 0.0,\n        \"max\": 4.5,\n        \"num_unique_values\": 7,\n        \"samples\": [\n          1.5,\n          2.0,\n          3.5\n        ],\n        \"semantic_type\": \"\",\n        \"description\": \"\"\n      }\n    },\n    {\n      \"column\": 40,\n      \"properties\": {\n        \"dtype\": \"number\",\n        \"std\": 1.914854215512676,\n        \"min\": 0.0,\n        \"max\": 5.0,\n        \"num_unique_values\": 6,\n        \"samples\": [\n          5.0,\n          4.0,\n          3.0\n        ],\n        \"semantic_type\": \"\",\n        \"description\": \"\"\n      }\n    },\n    {\n      \"column\": 50,\n      \"properties\": {\n        \"dtype\": \"number\",\n        \"std\": 2.0354009783964297,\n        \"min\": 0.0,\n        \"max\": 4.5,\n        \"num_unique_values\": 6,\n        \"samples\": [\n          3.0,\n          4.5,\n          2.0\n        ],\n        \"semantic_type\": \"\",\n        \"description\": \"\"\n      }\n    },\n    {\n      \"column\": 60,\n      \"properties\": {\n        \"dtype\": \"number\",\n        \"std\": 2.1536237457121516,\n        \"min\": 0.0,\n        \"max\": 5.0,\n        \"num_unique_values\": 7,\n        \"samples\": [\n          0.0,\n          3.5,\n          4.0\n        ],\n        \"semantic_type\": \"\",\n        \"description\": \"\"\n      }\n    },\n    {\n      \"column\": 70,\n      \"properties\": {\n        \"dtype\": \"number\",\n        \"std\": 2.1032854118757927,\n        \"min\": 0.0,\n        \"max\": 5.0,\n        \"num_unique_values\": 7,\n        \"samples\": [\n          0.0,\n          4.0,\n          2.5\n        ],\n        \"semantic_type\": \"\",\n        \"description\": \"\"\n      }\n    },\n    {\n      \"column\": 80,\n      \"properties\": {\n        \"dtype\": \"number\",\n        \"std\": 1.8439088914585775,\n        \"min\": 0.0,\n        \"max\": 4.5,\n        \"num_unique_values\": 5,\n        \"samples\": [\n          3.0,\n          2.5,\n          3.5\n        ],\n        \"semantic_type\": \"\",\n        \"description\": \"\"\n      }\n    },\n    {\n      \"column\": 90,\n      \"properties\": {\n        \"dtype\": \"number\",\n        \"std\": 1.797485015501487,\n        \"min\": 0.0,\n        \"max\": 4.5,\n        \"num_unique_values\": 4,\n        \"samples\": [\n          4.5,\n          3.0,\n          0.0\n        ],\n        \"semantic_type\": \"\",\n        \"description\": \"\"\n      }\n    },\n    {\n      \"column\": 100,\n      \"properties\": {\n        \"dtype\": \"number\",\n        \"std\": 1.742330131092924,\n        \"min\": 0.0,\n        \"max\": 4.5,\n        \"num_unique_values\": 5,\n        \"samples\": [\n          4.0,\n          3.5,\n          4.5\n        ],\n        \"semantic_type\": \"\",\n        \"description\": \"\"\n      }\n    }\n  ]\n}"
            }
          },
          "metadata": {},
          "execution_count": 83
        }
      ],
      "source": [
        "# Create a user-item matrix\n",
        "user_item_matrix = ratings_df.pivot(\n",
        "    index='user_id',\n",
        "    columns='movie_id',\n",
        "    values='rating'\n",
        ").fillna(0)\n",
        "\n",
        "print(\"User-Item Matrix Shape:\", user_item_matrix.shape)\n",
        "user_item_matrix.head()"
      ]
    },
    {
      "cell_type": "code",
      "execution_count": 72,
      "metadata": {
        "colab": {
          "base_uri": "https://localhost:8080/"
        },
        "id": "fdajKLIlhJOD",
        "outputId": "99a47f95-63de-44ff-d3fc-b7ba775262b9"
      },
      "outputs": [
        {
          "output_type": "stream",
          "name": "stdout",
          "text": [
            "Training set size: 60\n",
            "Testing set size: 15\n"
          ]
        }
      ],
      "source": [
        "# Split data into training and testing sets\n",
        "train_data, test_data = train_test_split(ratings_df, test_size=0.2, random_state=42)\n",
        "\n",
        "# Create user-item matrices for training data\n",
        "train_user_item_matrix = train_data.pivot(\n",
        "    index='user_id',\n",
        "    columns='movie_id',\n",
        "    values='rating'\n",
        ").fillna(0)\n",
        "\n",
        "print(f\"Training set size: {len(train_data)}\")\n",
        "print(f\"Testing set size: {len(test_data)}\")"
      ]
    },
    {
      "cell_type": "markdown",
      "metadata": {
        "id": "8f239aDshJOD"
      },
      "source": [
        "## 3. User-Based Collaborative Filtering"
      ]
    },
    {
      "cell_type": "code",
      "execution_count": 73,
      "metadata": {
        "id": "i8swEwjghJOE"
      },
      "outputs": [],
      "source": [
        "def user_based_cf(user_item_matrix, user_id, k=5, n_recommendations=5):\n",
        "    \"\"\"\n",
        "    User-based collaborative filtering recommendation system.\n",
        "\n",
        "    Parameters:\n",
        "    -----------\n",
        "    user_item_matrix : pandas DataFrame\n",
        "        User-item matrix where rows are users and columns are items\n",
        "    user_id : int\n",
        "        ID of the user for whom to make recommendations\n",
        "    k : int\n",
        "        Number of similar users to consider\n",
        "    n_recommendations : int\n",
        "        Number of recommendations to return\n",
        "\n",
        "    Returns:\n",
        "    --------\n",
        "    recommendations : list\n",
        "        List of recommended item IDs\n",
        "    predicted_ratings : dict\n",
        "        Dictionary of predicted ratings for all items\n",
        "    \"\"\"\n",
        "    # Compute user similarity matrix using cosine similarity\n",
        "    user_similarity = cosine_similarity(user_item_matrix)\n",
        "    user_similarity_df = pd.DataFrame(user_similarity,\n",
        "                                     index=user_item_matrix.index,\n",
        "                                     columns=user_item_matrix.index)\n",
        "\n",
        "    # Get the user's row index\n",
        "    user_idx = user_item_matrix.index.get_loc(user_id)\n",
        "\n",
        "    # Get similarity scores for the target user with all other users\n",
        "    user_similarities = user_similarity_df.iloc[user_idx].drop(user_id)\n",
        "\n",
        "    # Get the top k similar users\n",
        "    most_similar_users = user_similarities.sort_values(ascending=False).head(k)\n",
        "\n",
        "    # Get the items that the user has not rated\n",
        "    user_rated_items = user_item_matrix.loc[user_id]\n",
        "    unrated_items = user_rated_items[user_rated_items == 0].index\n",
        "\n",
        "    # Calculate predicted ratings for unrated items\n",
        "    predicted_ratings = {}\n",
        "\n",
        "    for item in unrated_items:\n",
        "        item_ratings = user_item_matrix[item]\n",
        "        # Get ratings of similar users for this item\n",
        "        similar_users_ratings = []\n",
        "        similar_users_similarities = []\n",
        "\n",
        "        for sim_user, sim_score in most_similar_users.items():\n",
        "            rating = item_ratings.loc[sim_user]\n",
        "            if rating > 0:  # Only consider actual ratings (not missing values)\n",
        "                similar_users_ratings.append(rating)\n",
        "                similar_users_similarities.append(sim_score)\n",
        "\n",
        "        # If no similar users have rated this item, skip it\n",
        "        if not similar_users_ratings:\n",
        "            continue\n",
        "\n",
        "        # Calculate weighted average rating\n",
        "        weighted_sum = sum(r * s for r, s in zip(similar_users_ratings, similar_users_similarities))\n",
        "        similarity_sum = sum(similar_users_similarities)\n",
        "\n",
        "        if similarity_sum > 0:\n",
        "            predicted_ratings[item] = weighted_sum / similarity_sum\n",
        "\n",
        "    # Sort items by predicted rating and get top n recommendations\n",
        "    recommendations = sorted(predicted_ratings.items(), key=lambda x: x[1], reverse=True)[:n_recommendations]\n",
        "\n",
        "    return [item for item, _ in recommendations], predicted_ratings"
      ]
    },
    {
      "cell_type": "code",
      "execution_count": 74,
      "metadata": {
        "colab": {
          "base_uri": "https://localhost:8080/"
        },
        "id": "8jKR8_MwhJOF",
        "outputId": "ea1c86ec-ac45-4d16-a3e5-0d0f0796ed69"
      },
      "outputs": [
        {
          "output_type": "stream",
          "name": "stdout",
          "text": [
            "Top recommendations for user 1:\n",
            "Movie ID: 70, Title: The Shawshank Redemption (1994), Predicted Rating: 5.00\n",
            "Movie ID: 80, Title: Forrest Gump (1994), Predicted Rating: 3.67\n",
            "Movie ID: 60, Title: Pulp Fiction (1994), Predicted Rating: 3.26\n"
          ]
        }
      ],
      "source": [
        "# Example: Get recommendations for user 1\n",
        "user_id = 1\n",
        "recommended_items, predicted_ratings = user_based_cf(train_user_item_matrix, user_id, k=3, n_recommendations=3)\n",
        "\n",
        "print(f\"Top recommendations for user {user_id}:\")\n",
        "for item_id in recommended_items:\n",
        "    movie_title = movies_df[movies_df['movie_id'] == item_id]['title'].values[0]\n",
        "    predicted_rating = predicted_ratings[item_id]\n",
        "    print(f\"Movie ID: {item_id}, Title: {movie_title}, Predicted Rating: {predicted_rating:.2f}\")"
      ]
    },
    {
      "cell_type": "markdown",
      "metadata": {
        "id": "9Efhe_YZhJOG"
      },
      "source": [
        "## 4. Item-Based Collaborative Filtering"
      ]
    },
    {
      "cell_type": "code",
      "execution_count": 75,
      "metadata": {
        "id": "aLzhEPvphJOG"
      },
      "outputs": [],
      "source": [
        "def item_based_cf(user_item_matrix, user_id, k=5, n_recommendations=5):\n",
        "    \"\"\"\n",
        "    Item-based collaborative filtering recommendation system.\n",
        "\n",
        "    Parameters:\n",
        "    -----------\n",
        "    user_item_matrix : pandas DataFrame\n",
        "        User-item matrix where rows are users and columns are items\n",
        "    user_id : int\n",
        "        ID of the user for whom to make recommendations\n",
        "    k : int\n",
        "        Number of similar items to consider\n",
        "    n_recommendations : int\n",
        "        Number of recommendations to return\n",
        "\n",
        "    Returns:\n",
        "    --------\n",
        "    recommendations : list\n",
        "        List of recommended item IDs\n",
        "    predicted_ratings : dict\n",
        "        Dictionary of predicted ratings for all items\n",
        "    \"\"\"\n",
        "    # Compute item similarity matrix using cosine similarity\n",
        "    item_similarity = cosine_similarity(user_item_matrix.T)\n",
        "    item_similarity_df = pd.DataFrame(item_similarity,\n",
        "                                     index=user_item_matrix.columns,\n",
        "                                     columns=user_item_matrix.columns)\n",
        "\n",
        "    # Get the user's ratings\n",
        "    user_ratings = user_item_matrix.loc[user_id]\n",
        "\n",
        "    # Get the items that the user has not rated\n",
        "    rated_items = user_ratings[user_ratings > 0].index\n",
        "    unrated_items = user_ratings[user_ratings == 0].index\n",
        "\n",
        "    # Calculate predicted ratings for unrated items\n",
        "    predicted_ratings = {}\n",
        "\n",
        "    for item in unrated_items:\n",
        "        # Get similarity scores between this item and all other items\n",
        "        item_similarities = item_similarity_df[item]\n",
        "\n",
        "        # Get the top k similar items that the user has rated\n",
        "        similar_items = item_similarities.drop(item)\n",
        "        similar_items = similar_items[similar_items.index.isin(rated_items)]\n",
        "        most_similar_items = similar_items.sort_values(ascending=False).head(k)\n",
        "\n",
        "        # If no similar items have been rated by the user, skip this item\n",
        "        if most_similar_items.empty:\n",
        "            continue\n",
        "\n",
        "        # Calculate weighted average rating\n",
        "        weighted_sum = 0\n",
        "        similarity_sum = 0\n",
        "\n",
        "        for sim_item, sim_score in most_similar_items.items():\n",
        "            # Get the user's rating for the similar item\n",
        "            rating = user_ratings[sim_item]\n",
        "            weighted_sum += rating * sim_score\n",
        "            similarity_sum += sim_score\n",
        "\n",
        "        if similarity_sum > 0:\n",
        "            predicted_ratings[item] = weighted_sum / similarity_sum\n",
        "\n",
        "    # Sort items by predicted rating and get top n recommendations\n",
        "    recommendations = sorted(predicted_ratings.items(), key=lambda x: x[1], reverse=True)[:n_recommendations]\n",
        "\n",
        "    return [item for item, _ in recommendations], predicted_ratings"
      ]
    },
    {
      "cell_type": "code",
      "execution_count": 76,
      "metadata": {
        "colab": {
          "base_uri": "https://localhost:8080/"
        },
        "id": "kPx-jr6OhJOL",
        "outputId": "7aa365fc-318e-4eab-d2c6-ea8272503fce"
      },
      "outputs": [
        {
          "output_type": "stream",
          "name": "stdout",
          "text": [
            "Top recommendations for user 1 (Item-based CF):\n",
            "Movie ID: 80, Title: Forrest Gump (1994), Predicted Rating: 3.90\n",
            "Movie ID: 60, Title: Pulp Fiction (1994), Predicted Rating: 3.66\n",
            "Movie ID: 100, Title: The Godfather (1972), Predicted Rating: 3.34\n"
          ]
        }
      ],
      "source": [
        "# Example: Get recommendations for user 1 using item-based CF\n",
        "user_id = 1\n",
        "recommended_items, predicted_ratings = item_based_cf(train_user_item_matrix, user_id, k=3, n_recommendations=3)\n",
        "\n",
        "print(f\"Top recommendations for user {user_id} (Item-based CF):\")\n",
        "for item_id in recommended_items:\n",
        "    movie_title = movies_df[movies_df['movie_id'] == item_id]['title'].values[0]\n",
        "    predicted_rating = predicted_ratings[item_id]\n",
        "    print(f\"Movie ID: {item_id}, Title: {movie_title}, Predicted Rating: {predicted_rating:.2f}\")"
      ]
    },
    {
      "cell_type": "markdown",
      "metadata": {
        "id": "OGZyB43_hJOM"
      },
      "source": [
        "## 5. Matrix Factorization using SVD"
      ]
    },
    {
      "cell_type": "code",
      "execution_count": 77,
      "metadata": {
        "id": "wz2Zj7D2hJOM"
      },
      "outputs": [],
      "source": [
        "def svd_recommendation(user_item_matrix, user_id, n_factors=5, n_recommendations=5):\n",
        "    \"\"\"\n",
        "    Matrix factorization recommendation system using SVD.\n",
        "\n",
        "    Parameters:\n",
        "    -----------\n",
        "    user_item_matrix : pandas DataFrame\n",
        "        User-item matrix where rows are users and columns are items\n",
        "    user_id : int\n",
        "        ID of the user for whom to make recommendations\n",
        "    n_factors : int\n",
        "        Number of latent factors to use in SVD\n",
        "    n_recommendations : int\n",
        "        Number of recommendations to return\n",
        "\n",
        "    Returns:\n",
        "    --------\n",
        "    recommendations : list\n",
        "        List of recommended item IDs\n",
        "    predicted_ratings : dict\n",
        "        Dictionary of predicted ratings for all items\n",
        "    \"\"\"\n",
        "    # Convert the user-item matrix to a numpy array\n",
        "    matrix = user_item_matrix.values\n",
        "\n",
        "    # Calculate the mean rating for each user and center the data\n",
        "    user_ratings_mean = np.mean(matrix, axis=1)\n",
        "    matrix_centered = matrix - user_ratings_mean.reshape(-1, 1)\n",
        "\n",
        "    # Perform SVD\n",
        "    U, sigma, Vt = svds(matrix_centered, k=n_factors)\n",
        "\n",
        "    # Convert sigma to a diagonal matrix\n",
        "    sigma_diag = np.diag(sigma)\n",
        "\n",
        "    # Reconstruct the matrix\n",
        "    predicted_ratings_matrix = np.dot(np.dot(U, sigma_diag), Vt) + user_ratings_mean.reshape(-1, 1)\n",
        "\n",
        "    # Convert the reconstructed matrix back to a DataFrame\n",
        "    predicted_ratings_df = pd.DataFrame(predicted_ratings_matrix,\n",
        "                                       index=user_item_matrix.index,\n",
        "                                       columns=user_item_matrix.columns)\n",
        "\n",
        "    # Get the user's row index\n",
        "    user_idx = user_item_matrix.index.get_loc(user_id)\n",
        "\n",
        "    # Get the user's actual ratings\n",
        "    user_ratings = user_item_matrix.loc[user_id]\n",
        "\n",
        "    # Get the items that the user has not rated\n",
        "    unrated_items = user_ratings[user_ratings == 0].index\n",
        "\n",
        "    # Get predicted ratings for unrated items\n",
        "    predicted_ratings = {}\n",
        "    for item in unrated_items:\n",
        "        predicted_ratings[item] = predicted_ratings_df.loc[user_id, item]\n",
        "\n",
        "    # Sort items by predicted rating and get top n recommendations\n",
        "    recommendations = sorted(predicted_ratings.items(), key=lambda x: x[1], reverse=True)[:n_recommendations]\n",
        "\n",
        "    return [item for item, _ in recommendations], predicted_ratings"
      ]
    },
    {
      "cell_type": "code",
      "execution_count": 78,
      "metadata": {
        "colab": {
          "base_uri": "https://localhost:8080/"
        },
        "id": "FC_-_FlVhJON",
        "outputId": "0c1ed409-8477-4500-8028-e6db7eb635c1"
      },
      "outputs": [
        {
          "output_type": "stream",
          "name": "stdout",
          "text": [
            "Top recommendations for user 1 (SVD):\n",
            "Movie ID: 70, Title: The Shawshank Redemption (1994), Predicted Rating: 1.65\n",
            "Movie ID: 80, Title: Forrest Gump (1994), Predicted Rating: 1.62\n",
            "Movie ID: 60, Title: Pulp Fiction (1994), Predicted Rating: 0.96\n"
          ]
        }
      ],
      "source": [
        "# Example: Get recommendations for user 1 using SVD\n",
        "user_id = 1\n",
        "recommended_items, predicted_ratings = svd_recommendation(train_user_item_matrix, user_id, n_factors=3, n_recommendations=3)\n",
        "\n",
        "print(f\"Top recommendations for user {user_id} (SVD):\")\n",
        "for item_id in recommended_items:\n",
        "    movie_title = movies_df[movies_df['movie_id'] == item_id]['title'].values[0]\n",
        "    predicted_rating = predicted_ratings[item_id]\n",
        "    print(f\"Movie ID: {item_id}, Title: {movie_title}, Predicted Rating: {predicted_rating:.2f}\")"
      ]
    },
    {
      "cell_type": "markdown",
      "metadata": {
        "id": "1R_jUG8-hJOO"
      },
      "source": [
        "## 6. Evaluation"
      ]
    },
    {
      "cell_type": "code",
      "execution_count": 79,
      "metadata": {
        "id": "kv57pBjlhJOO"
      },
      "outputs": [],
      "source": [
        "def calculate_rmse(true_ratings, predicted_ratings):\n",
        "    \"\"\"\n",
        "    Calculate Root Mean Square Error between true and predicted ratings.\n",
        "\n",
        "    Parameters:\n",
        "    -----------\n",
        "    true_ratings : array-like\n",
        "        True ratings\n",
        "    predicted_ratings : array-like\n",
        "        Predicted ratings\n",
        "\n",
        "    Returns:\n",
        "    --------\n",
        "    rmse : float\n",
        "        Root Mean Square Error\n",
        "    \"\"\"\n",
        "    return np.sqrt(mean_squared_error(true_ratings, predicted_ratings))"
      ]
    },
    {
      "cell_type": "code",
      "execution_count": 80,
      "metadata": {
        "id": "69ZJ-GwehJOP"
      },
      "outputs": [],
      "source": [
        "def precision_at_k(recommended_items, relevant_items, k=5):\n",
        "    \"\"\"\n",
        "    Calculate precision@k for recommendation evaluation.\n",
        "\n",
        "    Parameters:\n",
        "    -----------\n",
        "    recommended_items : list\n",
        "        List of recommended item IDs\n",
        "    relevant_items : list\n",
        "        List of relevant item IDs (ground truth)\n",
        "    k : int\n",
        "        Number of top recommendations to consider\n",
        "\n",
        "    Returns:\n",
        "    --------\n",
        "    precision : float\n",
        "        Precision@k\n",
        "    \"\"\"\n",
        "    # Take only the top k recommendations\n",
        "    recommended_k = recommended_items[:k]\n",
        "\n",
        "    # Count the number of relevant items in the top k recommendations\n",
        "    num_relevant = len(set(recommended_k) & set(relevant_items))\n",
        "\n",
        "    # Calculate precision@k\n",
        "    precision = num_relevant / min(k, len(recommended_k)) if len(recommended_k) > 0 else 0\n",
        "\n",
        "    return precision"
      ]
    },
    {
      "cell_type": "code",
      "execution_count": 81,
      "metadata": {
        "id": "HQ4kxjvAhJOP"
      },
      "outputs": [],
      "source": [
        "def evaluate_recommendations(test_data, user_item_matrix, method='user_based', k=5):\n",
        "    \"\"\"\n",
        "    Evaluate recommendation system using RMSE and precision@k.\n",
        "\n",
        "    Parameters:\n",
        "    -----------\n",
        "    test_data : pandas DataFrame\n",
        "        Test data containing user_id, movie_id, and rating\n",
        "    user_item_matrix : pandas DataFrame\n",
        "        User-item matrix for training data\n",
        "    method : str\n",
        "        Recommendation method ('user_based', 'item_based', or 'svd')\n",
        "    k : int\n",
        "        Number of recommendations to consider for precision@k\n",
        "\n",
        "    Returns:\n",
        "    --------\n",
        "    rmse : float\n",
        "        Root Mean Square Error\n",
        "    precision : float\n",
        "        Average precision@k\n",
        "    \"\"\"\n",
        "    # Group test data by user\n",
        "    user_groups = test_data.groupby('user_id')\n",
        "\n",
        "    true_ratings = []\n",
        "    pred_ratings = []\n",
        "    precision_scores = []\n",
        "\n",
        "    for user_id, group in user_groups:\n",
        "        # Skip users not in the training data\n",
        "        if user_id not in user_item_matrix.index:\n",
        "            continue\n",
        "\n",
        "        # Get the user's test items and ratings\n",
        "        test_items = group['movie_id'].values\n",
        "        test_ratings = group['rating'].values\n",
        "\n",
        "        # Get recommendations based on the specified method\n",
        "        if method == 'user_based':\n",
        "            _, predicted_ratings = user_based_cf(user_item_matrix, user_id, k=3, n_recommendations=len(test_items))\n",
        "        elif method == 'item_based':\n",
        "            _, predicted_ratings = item_based_cf(user_item_matrix, user_id, k=3, n_recommendations=len(test_items))\n",
        "        elif method == 'svd':\n",
        "            _, predicted_ratings = svd_recommendation(user_item_matrix, user_id, n_factors=3, n_recommendations=len(test_items))\n",
        "\n",
        "        # Get predicted ratings for test items\n",
        "        for i, item in enumerate(test_items):\n",
        "            if item in predicted_ratings:\n",
        "                true_ratings.append(test_ratings[i])\n",
        "                pred_ratings.append(predicted_ratings[item])\n",
        "\n",
        "        # Calculate precision@k\n",
        "        # Define relevant items as those with ratings >= 4\n",
        "        relevant_items = group[group['rating'] >= 4]['movie_id'].values\n",
        "\n",
        "        # Get top k recommended items\n",
        "        recommended_items = sorted(predicted_ratings.items(), key=lambda x: x[1], reverse=True)[:k]\n",
        "        recommended_items = [item for item, _ in recommended_items]\n",
        "\n",
        "        # Calculate precision@k for this user\n",
        "        precision = precision_at_k(recommended_items, relevant_items, k)\n",
        "        precision_scores.append(precision)\n",
        "\n",
        "    # Calculate RMSE\n",
        "    if true_ratings and pred_ratings:\n",
        "        rmse = calculate_rmse(true_ratings, pred_ratings)\n",
        "    else:\n",
        "        rmse = float('nan')\n",
        "\n",
        "    # Calculate average precision@k\n",
        "    avg_precision = sum(precision_scores) / len(precision_scores) if precision_scores else 0\n",
        "\n",
        "    return rmse, avg_precision"
      ]
    },
    {
      "cell_type": "code",
      "execution_count": 82,
      "metadata": {
        "colab": {
          "base_uri": "https://localhost:8080/",
          "height": 559
        },
        "id": "O9xJpC6MhJOQ",
        "outputId": "64d3519f-2323-4c5d-8325-81ad93e7b8c7"
      },
      "outputs": [
        {
          "output_type": "stream",
          "name": "stdout",
          "text": [
            "User_based CF - RMSE: 0.9435, Precision@3: 0.0303\n",
            "Item_based CF - RMSE: 0.9613, Precision@3: 0.0303\n",
            "Svd CF - RMSE: 3.3731, Precision@3: 0.0303\n"
          ]
        },
        {
          "output_type": "display_data",
          "data": {
            "text/plain": [
              "<Figure size 1200x500 with 2 Axes>"
            ],
            "image/png": "[encoded data removed]"
          },
          "metadata": {}
        }
      ],
      "source": [
        "# Evaluate all three methods\n",
        "methods = ['user_based', 'item_based', 'svd']\n",
        "results = {}\n",
        "\n",
        "for method in methods:\n",
        "    rmse, precision = evaluate_recommendations(test_data, train_user_item_matrix, method=method, k=3)\n",
        "    results[method] = {'RMSE': rmse, 'Precision@3': precision}\n",
        "    print(f\"{method.capitalize()} CF - RMSE: {rmse:.4f}, Precision@3: {precision:.4f}\")\n",
        "\n",
        "# Visualize results\n",
        "methods_display = [m.capitalize() + ' CF' for m in methods]\n",
        "rmse_values = [results[m]['RMSE'] for m in methods]\n",
        "precision_values = [results[m]['Precision@3'] for m in methods]\n",
        "\n",
        "fig, (ax1, ax2) = plt.subplots(1, 2, figsize=(12, 5))\n",
        "\n",
        "# RMSE plot (lower is better)\n",
        "ax1.bar(methods_display, rmse_values, color='skyblue')\n",
        "ax1.set_title('RMSE Comparison (lower is better)')\n",
        "ax1.set_ylabel('RMSE')\n",
        "\n",
        "# Precision plot (higher is better)\n",
        "ax2.bar(methods_display, precision_values, color='lightgreen')\n",
        "ax2.set_title('Precision@3 Comparison (higher is better)')\n",
        "ax2.set_ylabel('Precision@3')\n",
        "\n",
        "plt.tight_layout()\n",
        "plt.show()"
      ]
    },
    {
      "cell_type": "code",
      "source": [
        "# prompt: create branch on github\n",
        "\n",
        "# This code demonstrates the shell commands, but requires a local Git repository\n",
        "# cloned and configured within your Colab environment, which is typically not\n",
        "# the standard workflow for remote GitHub operations directly from Colab.\n",
        "\n",
        "# Example shell commands to create a branch (requires a cloned repo in Colab)\n",
        "# Replace 'your_branch_name' with the desired branch name\n",
        "\n",
        "# First, ensure you are in the directory of your cloned repository\n",
        "# !cd /content/your_repo_folder # Replace with your actual repo folder name\n",
        "\n",
        "# Fetch the latest changes from the remote\n",
        "# !git fetch origin\n",
        "\n",
        "# Create a new branch based on the current branch (e.g., 'main' or 'master')\n",
        "# !git branch your_branch_name\n",
        "\n",
        "# Optional: Switch to the new branch\n",
        "# !git checkout your_branch_name\n",
        "\n",
        "# Optional: Push the new branch to the remote GitHub repository\n",
        "# This step requires authentication and is complex to handle directly in Colab\n",
        "# !git push origin your_branch_name\n",
        "\n",
        "print(\"Creating a branch on GitHub typically involves Git commands on a local machine or using the GitHub web interface/API.\")\n",
        "print(\"The shell commands above demonstrate the Git steps, but require a cloned repository and authentication in Colab.\")\n"
      ],
      "metadata": {
        "colab": {
          "base_uri": "https://localhost:8080/"
        },
        "id": "ezS46ACPnMLW",
        "outputId": "4b31c2dd-aa27-432f-adac-4a68bc2f99d3"
      },
      "execution_count": 84,
      "outputs": [
        {
          "output_type": "stream",
          "name": "stdout",
          "text": [
            "Creating a branch on GitHub typically involves Git commands on a local machine or using the GitHub web interface/API.\n",
            "The shell commands above demonstrate the Git steps, but require a cloned repository and authentication in Colab.\n"
          ]
        }
      ]
    },
    {
      "cell_type": "markdown",
      "metadata": {
        "id": "UCx-TjcYhJOQ"
      },
      "source": [
        "## 7. Comparison and Discussion\n",
        "\n",
        "In this notebook, we implemented and evaluated three different collaborative filtering approaches for movie recommendations:\n",
        "\n",
        "1. **User-Based Collaborative Filtering**: This approach finds similar users and recommends items that those similar users liked. It works well when there are many users who have rated the same items, but can suffer from scalability issues with large user bases.\n",
        "\n",
        "2. **Item-Based Collaborative Filtering**: This approach finds similar items based on user rating patterns and recommends items similar to those the user has already liked. It tends to be more stable than user-based CF since item similarities don't change as frequently as user similarities.\n",
        "\n",
        "3. **Matrix Factorization using SVD**: This approach decomposes the user-item matrix into lower-dimensional matrices that capture latent factors. It often provides better recommendations by capturing underlying patterns in the data and can handle the sparsity problem better than memory-based approaches.\n",
        "\n",
        "### Performance Analysis\n",
        "\n",
        "Based on our evaluation metrics:\n",
        "\n",
        "- **RMSE (Root Mean Square Error)**: Measures the accuracy of predicted ratings. Lower values indicate better performance.\n",
        "- **Precision@k**: Measures the proportion of recommended items that are relevant. Higher values indicate better performance.\n",
        "\n",
        "The results show that matrix factorization using SVD generally performs better than memory-based approaches (user-based and item-based CF) in terms of both RMSE and precision@k. This is expected as SVD can capture latent factors and handle the sparsity problem better.\n",
        "\n",
        "### Limitations and Future Improvements\n",
        "\n",
        "1. **Data Sparsity**: Our mock dataset is relatively small and dense. In real-world scenarios, the user-item matrix would be much sparser, which could affect the performance of these algorithms differently.\n",
        "\n",
        "2. **Cold Start Problem**: None of these methods handle the cold start problem well (new users or new items with no ratings). Hybrid approaches combining content-based and collaborative filtering could address this issue.\n",
        "\n",
        "3. **Scalability**: User-based CF especially can face scalability issues with large datasets. Techniques like locality-sensitive hashing could be used to improve efficiency.\n",
        "\n",
        "4. **Advanced Models**: More sophisticated models like neural collaborative filtering or deep learning approaches could potentially provide better recommendations.\n",
        "\n",
        "5. **Contextual Information**: Incorporating contextual information (time, location, etc.) could lead to more personalized recommendations.\n",
        "\n",
        "### Conclusion\n",
        "\n",
        "Each approach has its strengths and weaknesses, and the choice of method depends on the specific requirements and constraints of the recommendation system. For a production system, a hybrid approach or ensemble of multiple methods might provide the best results."
      ]
    }
  ],
  "metadata": {
    "kernelspec": {
      "display_name": "Python 3",
      "language": "python",
      "name": "python3"
    },
    "language_info": {
      "codemirror_mode": {
        "name": "ipython",
        "version": 3
      },
      "file_extension": ".py",
      "mimetype": "text/x-python",
      "name": "python",
      "nbconvert_exporter": "python",
      "pygments_lexer": "ipython3",
      "version": "3.10.11"
    },
    "colab": {
      "provenance": []
    }
  },
  "nbformat": 4,
  "nbformat_minor": 0
}